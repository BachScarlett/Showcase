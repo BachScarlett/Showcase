{
 "cells": [
  {
   "cell_type": "markdown",
   "metadata": {},
   "source": [
    "# Yelp Project - NLP\n"
   ]
  },
  {
   "cell_type": "code",
   "execution_count": 1,
   "metadata": {},
   "outputs": [],
   "source": [
    "import pandas as pd"
   ]
  },
  {
   "cell_type": "code",
   "execution_count": 2,
   "metadata": {},
   "outputs": [],
   "source": [
    "df = pd.read_csv('last_2yr_restaurant_reviews.csv')"
   ]
  },
  {
   "cell_type": "code",
   "execution_count": 3,
   "metadata": {},
   "outputs": [
    {
     "data": {
      "text/html": [
       "<div>\n",
       "<style scoped>\n",
       "    .dataframe tbody tr th:only-of-type {\n",
       "        vertical-align: middle;\n",
       "    }\n",
       "\n",
       "    .dataframe tbody tr th {\n",
       "        vertical-align: top;\n",
       "    }\n",
       "\n",
       "    .dataframe thead th {\n",
       "        text-align: right;\n",
       "    }\n",
       "</style>\n",
       "<table border=\"1\" class=\"dataframe\">\n",
       "  <thead>\n",
       "    <tr style=\"text-align: right;\">\n",
       "      <th></th>\n",
       "      <th>business_id</th>\n",
       "      <th>name</th>\n",
       "      <th>categories</th>\n",
       "      <th>avg_stars</th>\n",
       "      <th>cool</th>\n",
       "      <th>date</th>\n",
       "      <th>funny</th>\n",
       "      <th>review_id</th>\n",
       "      <th>stars</th>\n",
       "      <th>text</th>\n",
       "      <th>type</th>\n",
       "      <th>useful</th>\n",
       "      <th>user_id</th>\n",
       "      <th>count</th>\n",
       "    </tr>\n",
       "  </thead>\n",
       "  <tbody>\n",
       "    <tr>\n",
       "      <th>0</th>\n",
       "      <td>--9e1ONYQuAa-CB_Rrw7Tw</td>\n",
       "      <td>Delmonico Steakhouse</td>\n",
       "      <td>[Steakhouses, Restaurants, Cajun/Creole]</td>\n",
       "      <td>4.0</td>\n",
       "      <td>0</td>\n",
       "      <td>2015-06-26</td>\n",
       "      <td>0</td>\n",
       "      <td>nCqdz-NW64KazpxqnDr0sQ</td>\n",
       "      <td>1</td>\n",
       "      <td>I mainly went for the ceasar salad prepared ta...</td>\n",
       "      <td>review</td>\n",
       "      <td>0</td>\n",
       "      <td>0XVzm4kVIAaH4eQAxWbhvw</td>\n",
       "      <td>1</td>\n",
       "    </tr>\n",
       "    <tr>\n",
       "      <th>1</th>\n",
       "      <td>--9e1ONYQuAa-CB_Rrw7Tw</td>\n",
       "      <td>Delmonico Steakhouse</td>\n",
       "      <td>[Steakhouses, Restaurants, Cajun/Creole]</td>\n",
       "      <td>4.0</td>\n",
       "      <td>0</td>\n",
       "      <td>2015-06-29</td>\n",
       "      <td>0</td>\n",
       "      <td>iwx6s6yQxc7yjS7NFANZig</td>\n",
       "      <td>4</td>\n",
       "      <td>Nice atmosphere and wonderful service. I had t...</td>\n",
       "      <td>review</td>\n",
       "      <td>0</td>\n",
       "      <td>2aeNFntqY2QDZLADNo8iQQ</td>\n",
       "      <td>1</td>\n",
       "    </tr>\n",
       "  </tbody>\n",
       "</table>\n",
       "</div>"
      ],
      "text/plain": [
       "              business_id                  name  \\\n",
       "0  --9e1ONYQuAa-CB_Rrw7Tw  Delmonico Steakhouse   \n",
       "1  --9e1ONYQuAa-CB_Rrw7Tw  Delmonico Steakhouse   \n",
       "\n",
       "                                 categories  avg_stars  cool        date  \\\n",
       "0  [Steakhouses, Restaurants, Cajun/Creole]        4.0     0  2015-06-26   \n",
       "1  [Steakhouses, Restaurants, Cajun/Creole]        4.0     0  2015-06-29   \n",
       "\n",
       "   funny               review_id  stars  \\\n",
       "0      0  nCqdz-NW64KazpxqnDr0sQ      1   \n",
       "1      0  iwx6s6yQxc7yjS7NFANZig      4   \n",
       "\n",
       "                                                text    type  useful  \\\n",
       "0  I mainly went for the ceasar salad prepared ta...  review       0   \n",
       "1  Nice atmosphere and wonderful service. I had t...  review       0   \n",
       "\n",
       "                  user_id  count  \n",
       "0  0XVzm4kVIAaH4eQAxWbhvw      1  \n",
       "1  2aeNFntqY2QDZLADNo8iQQ      1  "
      ]
     },
     "execution_count": 3,
     "metadata": {},
     "output_type": "execute_result"
    }
   ],
   "source": [
    "df.head(2)"
   ]
  },
  {
   "cell_type": "markdown",
   "metadata": {},
   "source": [
    "### Define the text of the review as feature variable"
   ]
  },
  {
   "cell_type": "code",
   "execution_count": 4,
   "metadata": {},
   "outputs": [],
   "source": [
    "documents = df['text'].values"
   ]
  },
  {
   "cell_type": "code",
   "execution_count": 21,
   "metadata": {},
   "outputs": [
    {
     "data": {
      "text/plain": [
       "(dtype('O'), (347619,))"
      ]
     },
     "execution_count": 21,
     "metadata": {},
     "output_type": "execute_result"
    }
   ],
   "source": [
    "documents.dtype, documents.shape"
   ]
  },
  {
   "cell_type": "code",
   "execution_count": 22,
   "metadata": {
    "scrolled": true
   },
   "outputs": [
    {
     "data": {
      "text/plain": [
       "array(['I mainly went for the ceasar salad prepared tableside.  I ate in the bar, the bartender was very nice and helpful.  I got the grilled cheese with tomato soup.  Grilled cheese was very good but the soup was nothing special.  Now the salad that i read one reviewer said the best in vegas, which is the only reason i came.  Knowing that they put anchovies in it when they prepare tableside, i was going to tell them to hold off on that once they get started.  So as im waiting for them to come up and make it, they bring it already prepared.  What is that?  The whole point of getting it is to watch it being done and see that its made fresh.  So obviously the anchovies were already in it, and since i explained i didnt want them, they made another.   I was told its a fire hazard to prepare it in the bar area so they made it on the side when i wasnt looking.  The few bites i took werent that good.  So i watch them make the 2nd salad in the hallway.  Needless to say, it was totally flavorless, ive had better dressing from newmans own, and the lettuce was in long stems, not even cut up. I was very disappointed with the salad, although the other food looked good',\n",
       "       \"Nice atmosphere and wonderful service. I had the dinner special which was a wedge salad, a petite ribeye, and desert.   \\n\\nThe salad was as expected. Nothing to jump up and down about. The petite ribeye was tasty. Just a minute over cooked, but overall it was good. The desert was ice cream and cake. As I'm not a cake eater I can't tell you about that, but the ice cream was good. \\n\\nOverall, it was a pleasant dinner.\",\n",
       "       \"To be honest it really quit aweful. First the host was uninviting. Sure not rude however I felt like I just walked into Denny's at 2:30 am for some pancakes. The wait staff was prompt however I would have rather been served by Denny's. They not nice and unattentive. They made us feel like it was best if we just hurried finished our meal. Of course we occommidated them becuase once started eating the food was certainly good quality but way over salted. It was very pasty. Odds are unless someone else insists I wont be visting again. Why when there are so many other great choices. One more thing. The restaurant really had no theme.  White walls coupled with the staff it felt like an expensive hospital cafeteria.\"],\n",
       "      dtype=object)"
      ]
     },
     "execution_count": 22,
     "metadata": {},
     "output_type": "execute_result"
    }
   ],
   "source": [
    "documents[:3]"
   ]
  },
  {
   "cell_type": "markdown",
   "metadata": {},
   "source": [
    "### Define target variable"
   ]
  },
  {
   "cell_type": "markdown",
   "metadata": {},
   "source": [
    "#### Perfect (5 stars) and imperfect (1-4 stars) rating"
   ]
  },
  {
   "cell_type": "code",
   "execution_count": 23,
   "metadata": {},
   "outputs": [],
   "source": [
    "df['favorable'] = (df['stars'] > 4)"
   ]
  },
  {
   "cell_type": "code",
   "execution_count": 24,
   "metadata": {},
   "outputs": [],
   "source": [
    "target = df['favorable'].values"
   ]
  },
  {
   "cell_type": "code",
   "execution_count": 25,
   "metadata": {},
   "outputs": [
    {
     "data": {
      "text/plain": [
       "array([False, False, False, False, False,  True,  True,  True,  True,\n",
       "       False])"
      ]
     },
     "execution_count": 25,
     "metadata": {},
     "output_type": "execute_result"
    }
   ],
   "source": [
    "target[:10]"
   ]
  },
  {
   "cell_type": "code",
   "execution_count": 26,
   "metadata": {},
   "outputs": [
    {
     "data": {
      "text/plain": [
       "0.46076595352958266"
      ]
     },
     "execution_count": 26,
     "metadata": {},
     "output_type": "execute_result"
    }
   ],
   "source": [
    "target.mean()"
   ]
  },
  {
   "cell_type": "code",
   "execution_count": 27,
   "metadata": {},
   "outputs": [
    {
     "data": {
      "text/plain": [
       "((347619,), (347619,))"
      ]
     },
     "execution_count": 27,
     "metadata": {},
     "output_type": "execute_result"
    }
   ],
   "source": [
    "documents.shape, target.shape"
   ]
  },
  {
   "cell_type": "markdown",
   "metadata": {},
   "source": [
    "## Create training dataset and test dataset"
   ]
  },
  {
   "cell_type": "code",
   "execution_count": 28,
   "metadata": {},
   "outputs": [],
   "source": [
    "from sklearn.cross_validation import train_test_split"
   ]
  },
  {
   "cell_type": "code",
   "execution_count": 29,
   "metadata": {},
   "outputs": [],
   "source": [
    "documents_train, documents_test, target_train, target_test = train_test_split(\n",
    "    documents, target, test_size=0.8, random_state=42)"
   ]
  },
  {
   "cell_type": "code",
   "execution_count": 30,
   "metadata": {
    "collapsed": true
   },
   "outputs": [
    {
     "data": {
      "text/plain": [
       "array([\"Lived in jersey moved to Las Vegas 21 years later and set out to find Nevada's best pizzeria. If you find yourself on the same journey as us look no further than PayLess Pizza and Ribs #2. Biting into a slice of Vinny's pizza instantly brought me back to my younger days eating pizza on the beach of Seaside Heights, NJ and is the closest thing to East Coast Pizza that you can get without jumping on a plane to the east coast.\",\n",
       "       'First off, I have eaten Texas-Oklahoma \"Real Deal\" barbecue for 30+ years.\\n\\nBarbecue to different people across the USA undoubtably means different expectations.\\n\\nI like meats fresh off the smoker grill, meats with a smoke ring and ribs with meat that melts in your mouth,standing alone on the house seasonings. \\nThis means an ON-SITE smoker/pit grill.\\n\\nIf barbecue is served heavily sauced, something is being hidden. Usually dry overcooked or re-heated leftovers.\\n\\nReviews show heavily sauced product here.\\nWe never got to the point of seeing their product.\\n\\nWe went with another couple Thursday late morning, we all had their coupon special purchased in advance.\\n\\nWe were seated by a nice teen-age girl, who took our drink order and gave us napkins and flimsy plastic-ware forks and knives.\\n\\nI asked her if they cooked on site, she said \"yes sir\".\\n \\nI smelled ZERO barbecue smoke in the immediate outside or interior area, it is in a small location in a strip center.\\n\\nStrip centers, to my knowledge,for the most part, do not allow pit barbecue cooking for obvious reasons, fire risk, especially here in Vegas with summer tinder dry conditions.\\n\\nWe made our decisions and asked about our coupons, the owner appeared and said we could not use the discount coupons....we purchased these coupons she generated and could not use them.\\n\\nAfter quizzing her as to why, since she authorized them, she had no real answer.\\n\\n \\nShe said we could not, and proceeded to rudely call us cheap for trying to use them.\\n\\nAt this point we simply got up and left.\\n\\n\\nTC\\'S might have been a good barbecue place at their former location, where they received some  local popularity.\\n\\nI sense now, it is under new misguided management trying to live off past goodwill and is in a downward spiral....',\n",
       "       \"Too bad this place doesn't have better service because it could be lots fun. The bar area up front is great on a warm day, and the restaurant isn't bad, but in every way this place reminds me of a dive college bar with poor service and okay food - that just happens to have a restaurant attached.\",\n",
       "       ...,\n",
       "       \"Food is delicious , waiter service trash . Black girl was very rude & it's already 109 degrees hot outside . Half of the building Is cool than the other half is hot This is ridiculous\",\n",
       "       \"Excellent meal!  We tried this new place in Sam's Town  and I think it was great. I had the New York, sweet potatoes,  and a salad. The steak was perfectly cooked and you could tell it was aged meat because it was so tender. Our waiter Chelan took excellent care of us and I will definitely be back.\",\n",
       "       'Usually my girl and I hit the Lotus up for lunch, always cranking plus I love the buffet, oh I do put a whoopin on it. On this evening we went for dinner. As there were 4 of us some damage was done. My woman does her usual thing with the larb and chicken coconut soup but then there was chicken fried dumplings, mee crob if I am spelling that right and it was just the beginning. Poached salmon, Fried shrimp, chicken curry, and a whole catfish on the table,  a whole one. We love coming here, and it be showing. For the wine lovers you will be quite impressed.'],\n",
       "      dtype=object)"
      ]
     },
     "execution_count": 30,
     "metadata": {},
     "output_type": "execute_result"
    }
   ],
   "source": [
    "documents_train"
   ]
  },
  {
   "cell_type": "markdown",
   "metadata": {},
   "source": [
    "## NLP representation"
   ]
  },
  {
   "cell_type": "code",
   "execution_count": 31,
   "metadata": {},
   "outputs": [],
   "source": [
    "from sklearn.feature_extraction.text import TfidfVectorizer"
   ]
  },
  {
   "cell_type": "code",
   "execution_count": 32,
   "metadata": {},
   "outputs": [],
   "source": [
    "# Create TfidfVectorizer, and name it vectorizer\n",
    "vectorizer = TfidfVectorizer(stop_words='english', max_features=5000)"
   ]
  },
  {
   "cell_type": "code",
   "execution_count": 33,
   "metadata": {},
   "outputs": [],
   "source": [
    "# Train the model with your training data\n",
    "vectors_train = vectorizer.fit_transform(documents_train).toarray()"
   ]
  },
  {
   "cell_type": "code",
   "execution_count": 38,
   "metadata": {},
   "outputs": [
    {
     "data": {
      "text/plain": [
       "0.0"
      ]
     },
     "execution_count": 38,
     "metadata": {},
     "output_type": "execute_result"
    }
   ],
   "source": [
    "vectors_train[1,1]"
   ]
  },
  {
   "cell_type": "code",
   "execution_count": 35,
   "metadata": {},
   "outputs": [],
   "source": [
    "# Get the vocab of your tfidf\n",
    "words = vectorizer.get_feature_names()"
   ]
  },
  {
   "cell_type": "code",
   "execution_count": 36,
   "metadata": {
    "collapsed": true
   },
   "outputs": [
    {
     "data": {
      "text/plain": [
       "['00',\n",
       " '000',\n",
       " '00pm',\n",
       " '10',\n",
       " '100',\n",
       " '10am',\n",
       " '10pm',\n",
       " '11',\n",
       " '110',\n",
       " '11am',\n",
       " '11pm',\n",
       " '12',\n",
       " '120',\n",
       " '13',\n",
       " '14',\n",
       " '15',\n",
       " '150',\n",
       " '16',\n",
       " '17',\n",
       " '18',\n",
       " '19',\n",
       " '1am',\n",
       " '1pm',\n",
       " '1st',\n",
       " '20',\n",
       " '200',\n",
       " '2014',\n",
       " '2015',\n",
       " '2016',\n",
       " '21',\n",
       " '215',\n",
       " '22',\n",
       " '23',\n",
       " '24',\n",
       " '25',\n",
       " '26',\n",
       " '27',\n",
       " '28',\n",
       " '29',\n",
       " '2am',\n",
       " '2nd',\n",
       " '2pm',\n",
       " '30',\n",
       " '300',\n",
       " '30am',\n",
       " '30pm',\n",
       " '31',\n",
       " '32',\n",
       " '33',\n",
       " '34',\n",
       " '35',\n",
       " '36',\n",
       " '37',\n",
       " '38',\n",
       " '39',\n",
       " '3am',\n",
       " '3pm',\n",
       " '3rd',\n",
       " '40',\n",
       " '42',\n",
       " '45',\n",
       " '45pm',\n",
       " '48',\n",
       " '49',\n",
       " '4am',\n",
       " '4pm',\n",
       " '4th',\n",
       " '50',\n",
       " '500',\n",
       " '52',\n",
       " '55',\n",
       " '5pm',\n",
       " '5th',\n",
       " '60',\n",
       " '65',\n",
       " '6pm',\n",
       " '70',\n",
       " '75',\n",
       " '7pm',\n",
       " '80',\n",
       " '800',\n",
       " '85',\n",
       " '8pm',\n",
       " '90',\n",
       " '95',\n",
       " '99',\n",
       " '9pm',\n",
       " 'ability',\n",
       " 'able',\n",
       " 'absolute',\n",
       " 'absolutely',\n",
       " 'abundant',\n",
       " 'ac',\n",
       " 'acai',\n",
       " 'accent',\n",
       " 'accept',\n",
       " 'acceptable',\n",
       " 'accepted',\n",
       " 'access',\n",
       " 'accessible',\n",
       " 'accident',\n",
       " 'accidentally',\n",
       " 'accommodate',\n",
       " 'accommodated',\n",
       " 'accommodating',\n",
       " 'accompanied',\n",
       " 'accompany',\n",
       " 'accompanying',\n",
       " 'according',\n",
       " 'accordingly',\n",
       " 'account',\n",
       " 'accurate',\n",
       " 'acknowledge',\n",
       " 'acknowledged',\n",
       " 'act',\n",
       " 'acted',\n",
       " 'acting',\n",
       " 'action',\n",
       " 'actual',\n",
       " 'actually',\n",
       " 'add',\n",
       " 'added',\n",
       " 'addicted',\n",
       " 'addicting',\n",
       " 'addictive',\n",
       " 'adding',\n",
       " 'addition',\n",
       " 'additional',\n",
       " 'additionally',\n",
       " 'address',\n",
       " 'adds',\n",
       " 'adequate',\n",
       " 'adjacent',\n",
       " 'adjust',\n",
       " 'admit',\n",
       " 'admittedly',\n",
       " 'adobada',\n",
       " 'adobo',\n",
       " 'adorable',\n",
       " 'adult',\n",
       " 'adults',\n",
       " 'advance',\n",
       " 'advantage',\n",
       " 'adventure',\n",
       " 'adventurous',\n",
       " 'advertise',\n",
       " 'advertised',\n",
       " 'advertising',\n",
       " 'advice',\n",
       " 'advise',\n",
       " 'advised',\n",
       " 'afford',\n",
       " 'affordable',\n",
       " 'afraid',\n",
       " 'afternoon',\n",
       " 'age',\n",
       " 'aged',\n",
       " 'ages',\n",
       " 'ago',\n",
       " 'agree',\n",
       " 'agreed',\n",
       " 'ah',\n",
       " 'ahead',\n",
       " 'ahi',\n",
       " 'ain',\n",
       " 'aioli',\n",
       " 'air',\n",
       " 'airport',\n",
       " 'airy',\n",
       " 'aka',\n",
       " 'al',\n",
       " 'ala',\n",
       " 'alas',\n",
       " 'alaskan',\n",
       " 'albacore',\n",
       " 'albeit',\n",
       " 'alcohol',\n",
       " 'alcoholic',\n",
       " 'ale',\n",
       " 'alex',\n",
       " 'alfredo',\n",
       " 'alive',\n",
       " 'allergic',\n",
       " 'allergies',\n",
       " 'allergy',\n",
       " 'alley',\n",
       " 'allow',\n",
       " 'allowed',\n",
       " 'allowing',\n",
       " 'allows',\n",
       " 'almond',\n",
       " 'almonds',\n",
       " 'aloha',\n",
       " 'alongside',\n",
       " 'alot',\n",
       " 'alright',\n",
       " 'alternative',\n",
       " 'amanda',\n",
       " 'amazed',\n",
       " 'amazing',\n",
       " 'amazingly',\n",
       " 'amber',\n",
       " 'ambiance',\n",
       " 'ambience',\n",
       " 'america',\n",
       " 'american',\n",
       " 'americanized',\n",
       " 'ami',\n",
       " 'amounts',\n",
       " 'ample',\n",
       " 'amuse',\n",
       " 'andy',\n",
       " 'angel',\n",
       " 'angeles',\n",
       " 'angry',\n",
       " 'angus',\n",
       " 'animal',\n",
       " 'anniversary',\n",
       " 'annoyed',\n",
       " 'annoying',\n",
       " 'answer',\n",
       " 'answered',\n",
       " 'answering',\n",
       " 'answers',\n",
       " 'anthony',\n",
       " 'anticipated',\n",
       " 'antipasto',\n",
       " 'anybody',\n",
       " 'anymore',\n",
       " 'anytime',\n",
       " 'anyways',\n",
       " 'apart',\n",
       " 'apologetic',\n",
       " 'apologies',\n",
       " 'apologize',\n",
       " 'apologized',\n",
       " 'apologizing',\n",
       " 'apology',\n",
       " 'app',\n",
       " 'apparent',\n",
       " 'apparently',\n",
       " 'appeal',\n",
       " 'appealing',\n",
       " 'appear',\n",
       " 'appearance',\n",
       " 'appeared',\n",
       " 'appears',\n",
       " 'appetite',\n",
       " 'appetizer',\n",
       " 'appetizers',\n",
       " 'appetizing',\n",
       " 'apple',\n",
       " 'apples',\n",
       " 'appreciate',\n",
       " 'appreciated',\n",
       " 'approach',\n",
       " 'approached',\n",
       " 'appropriate',\n",
       " 'appropriately',\n",
       " 'approximately',\n",
       " 'apps',\n",
       " 'april',\n",
       " 'arcade',\n",
       " 'area',\n",
       " 'areas',\n",
       " 'aren',\n",
       " 'arepa',\n",
       " 'arepas',\n",
       " 'argue',\n",
       " 'argued',\n",
       " 'arguing',\n",
       " 'aria',\n",
       " 'arizona',\n",
       " 'arm',\n",
       " 'aroma',\n",
       " 'array',\n",
       " 'arrival',\n",
       " 'arrive',\n",
       " 'arrived',\n",
       " 'arrives',\n",
       " 'arriving',\n",
       " 'art',\n",
       " 'artichoke',\n",
       " 'artwork',\n",
       " 'arugula',\n",
       " 'asada',\n",
       " 'asap',\n",
       " 'ashley',\n",
       " 'asian',\n",
       " 'aside',\n",
       " 'ask',\n",
       " 'asked',\n",
       " 'asking',\n",
       " 'asks',\n",
       " 'asparagus',\n",
       " 'aspect',\n",
       " 'ass',\n",
       " 'assist',\n",
       " 'assistance',\n",
       " 'assistant',\n",
       " 'assorted',\n",
       " 'assortment',\n",
       " 'assume',\n",
       " 'assumed',\n",
       " 'assuming',\n",
       " 'assured',\n",
       " 'ate',\n",
       " 'atmosphere',\n",
       " 'atop',\n",
       " 'atrocious',\n",
       " 'attached',\n",
       " 'attack',\n",
       " 'attempt',\n",
       " 'attempted',\n",
       " 'attend',\n",
       " 'attendant',\n",
       " 'attended',\n",
       " 'attending',\n",
       " 'attention',\n",
       " 'attentive',\n",
       " 'attitude',\n",
       " 'attitudes',\n",
       " 'attractive',\n",
       " 'au',\n",
       " 'august',\n",
       " 'aunt',\n",
       " 'authentic',\n",
       " 'authenticity',\n",
       " 'automatically',\n",
       " 'available',\n",
       " 'average',\n",
       " 'avocado',\n",
       " 'avoid',\n",
       " 'avoided',\n",
       " 'award',\n",
       " 'aware',\n",
       " 'away',\n",
       " 'awesome',\n",
       " 'awful',\n",
       " 'awhile',\n",
       " 'awkward',\n",
       " 'ayce',\n",
       " 'baby',\n",
       " 'bacchanal',\n",
       " 'bachelorette',\n",
       " 'bachi',\n",
       " 'backed',\n",
       " 'background',\n",
       " 'bacon',\n",
       " 'bad',\n",
       " 'badly',\n",
       " 'bag',\n",
       " 'bagel',\n",
       " 'bagels',\n",
       " 'bags',\n",
       " 'baguette',\n",
       " 'baja',\n",
       " 'bake',\n",
       " 'baked',\n",
       " 'bakery',\n",
       " 'baklava',\n",
       " 'balance',\n",
       " 'balanced',\n",
       " 'balcony',\n",
       " 'ball',\n",
       " 'balls',\n",
       " 'bally',\n",
       " 'balsamic',\n",
       " 'bamboo',\n",
       " 'banana',\n",
       " 'bananas',\n",
       " 'banchan',\n",
       " 'band',\n",
       " 'bang',\n",
       " 'banh',\n",
       " 'bank',\n",
       " 'bao',\n",
       " 'bar',\n",
       " 'barbacoa',\n",
       " 'barbecue',\n",
       " 'bare',\n",
       " 'barely',\n",
       " 'bargain',\n",
       " 'barley',\n",
       " 'barrel',\n",
       " 'bars',\n",
       " 'bartender',\n",
       " 'bartenders',\n",
       " 'base',\n",
       " 'based',\n",
       " 'basic',\n",
       " 'basically',\n",
       " 'basics',\n",
       " 'basil',\n",
       " 'basis',\n",
       " 'basket',\n",
       " 'bass',\n",
       " 'bat',\n",
       " 'batch',\n",
       " 'bathroom',\n",
       " 'bathrooms',\n",
       " 'batter',\n",
       " 'battered',\n",
       " 'bay',\n",
       " 'bazaar',\n",
       " 'bbq',\n",
       " 'bc',\n",
       " 'bday',\n",
       " 'beach',\n",
       " 'bean',\n",
       " 'beans',\n",
       " 'bear',\n",
       " 'beat',\n",
       " 'beaten',\n",
       " 'beats',\n",
       " 'beautiful',\n",
       " 'beautifully',\n",
       " 'beauty',\n",
       " 'bed',\n",
       " 'beds',\n",
       " 'beef',\n",
       " 'beer',\n",
       " 'beers',\n",
       " 'beet',\n",
       " 'beets',\n",
       " 'began',\n",
       " 'begin',\n",
       " 'beginning',\n",
       " 'behavior',\n",
       " 'beignets',\n",
       " 'believe',\n",
       " 'bell',\n",
       " 'bellagio',\n",
       " 'belly',\n",
       " 'belt',\n",
       " 'ben',\n",
       " 'bench',\n",
       " 'beneath',\n",
       " 'benedict',\n",
       " 'benefit',\n",
       " 'benny',\n",
       " 'bento',\n",
       " 'berries',\n",
       " 'berry',\n",
       " 'best',\n",
       " 'bet',\n",
       " 'better',\n",
       " 'beverage',\n",
       " 'beverages',\n",
       " 'beware',\n",
       " 'bf',\n",
       " 'biased',\n",
       " 'bibimbap',\n",
       " 'big',\n",
       " 'bigger',\n",
       " 'biggest',\n",
       " 'biggie',\n",
       " 'bills',\n",
       " 'billy',\n",
       " 'bird',\n",
       " 'birthday',\n",
       " 'biryani',\n",
       " 'biscuit',\n",
       " 'biscuits',\n",
       " 'bison',\n",
       " 'bisque',\n",
       " 'bistro',\n",
       " 'bit',\n",
       " 'bite',\n",
       " 'bites',\n",
       " 'bits',\n",
       " 'bitter',\n",
       " 'black',\n",
       " 'blackened',\n",
       " 'blackjack',\n",
       " 'blah',\n",
       " 'blame',\n",
       " 'bland',\n",
       " 'blast',\n",
       " 'blaze',\n",
       " 'bleh',\n",
       " 'blend',\n",
       " 'blended',\n",
       " 'bleu',\n",
       " 'blew',\n",
       " 'block',\n",
       " 'blocks',\n",
       " 'blonde',\n",
       " 'blood',\n",
       " 'bloody',\n",
       " 'blow',\n",
       " 'blowing',\n",
       " 'blown',\n",
       " 'blows',\n",
       " 'blt',\n",
       " 'blue',\n",
       " 'blueberries',\n",
       " 'blueberry',\n",
       " 'blvd',\n",
       " 'bo',\n",
       " 'board',\n",
       " 'boat',\n",
       " 'bob',\n",
       " 'boba',\n",
       " 'bobby',\n",
       " 'body',\n",
       " 'bogo',\n",
       " 'boiled',\n",
       " 'boiling',\n",
       " 'bok',\n",
       " 'bold',\n",
       " 'bolognese',\n",
       " 'bomb',\n",
       " 'bon',\n",
       " 'bone',\n",
       " 'boneless',\n",
       " 'bones',\n",
       " 'bonus',\n",
       " 'boo',\n",
       " 'book',\n",
       " 'booked',\n",
       " 'bookmarked',\n",
       " 'boot',\n",
       " 'booth',\n",
       " 'booths',\n",
       " 'booze',\n",
       " 'border',\n",
       " 'borderline',\n",
       " 'bored',\n",
       " 'boring',\n",
       " 'born',\n",
       " 'boss',\n",
       " 'boston',\n",
       " 'bother',\n",
       " 'bothered',\n",
       " 'bottle',\n",
       " 'bottled',\n",
       " 'bottles',\n",
       " 'bottomless',\n",
       " 'bouche',\n",
       " 'bouchon',\n",
       " 'bought',\n",
       " 'bourbon',\n",
       " 'bowl',\n",
       " 'bowling',\n",
       " 'bowls',\n",
       " 'box',\n",
       " 'boxed',\n",
       " 'boxes',\n",
       " 'boy',\n",
       " 'boyfriend',\n",
       " 'boyfriends',\n",
       " 'boys',\n",
       " 'brain',\n",
       " 'braised',\n",
       " 'brand',\n",
       " 'brandon',\n",
       " 'bravo',\n",
       " 'brazil',\n",
       " 'brazilian',\n",
       " 'bread',\n",
       " 'breaded',\n",
       " 'breading',\n",
       " 'breads',\n",
       " 'breadsticks',\n",
       " 'break',\n",
       " 'breakfast',\n",
       " 'breakfasts',\n",
       " 'breaking',\n",
       " 'breast',\n",
       " 'breath',\n",
       " 'breeze',\n",
       " 'brew',\n",
       " 'brewed',\n",
       " 'brews',\n",
       " 'brian',\n",
       " 'brick',\n",
       " 'brie',\n",
       " 'bright',\n",
       " 'brilliant',\n",
       " 'bring',\n",
       " 'bringing',\n",
       " 'brings',\n",
       " 'brio',\n",
       " 'brioche',\n",
       " 'brisket',\n",
       " 'british',\n",
       " 'broccoli',\n",
       " 'broccolini',\n",
       " 'broke',\n",
       " 'broken',\n",
       " 'brooklyn',\n",
       " 'broth',\n",
       " 'brother',\n",
       " 'broths',\n",
       " 'brought',\n",
       " 'brown',\n",
       " 'brownie',\n",
       " 'browns',\n",
       " 'brulee',\n",
       " 'brunch',\n",
       " 'bruschetta',\n",
       " 'brussel',\n",
       " 'brussels',\n",
       " 'brûlée',\n",
       " 'bs',\n",
       " 'btw',\n",
       " 'bubble',\n",
       " 'buck',\n",
       " 'bucket',\n",
       " 'bucks',\n",
       " 'bud',\n",
       " 'buddies',\n",
       " 'buddy',\n",
       " 'budget',\n",
       " 'buds',\n",
       " 'bueno',\n",
       " 'buffalo',\n",
       " 'buffet',\n",
       " 'buffets',\n",
       " 'buffett',\n",
       " 'bug',\n",
       " 'bugs',\n",
       " 'build',\n",
       " 'building',\n",
       " 'built',\n",
       " 'bulgogi',\n",
       " 'bull',\n",
       " 'bummed',\n",
       " 'bummer',\n",
       " 'bun',\n",
       " 'bunch',\n",
       " 'buns',\n",
       " 'burger',\n",
       " 'burgers',\n",
       " 'burgr',\n",
       " 'burn',\n",
       " 'burned',\n",
       " 'burning',\n",
       " 'burnt',\n",
       " 'burrata',\n",
       " 'burrito',\n",
       " 'burritos',\n",
       " 'bursting',\n",
       " 'bus',\n",
       " 'busboy',\n",
       " 'busier',\n",
       " 'business',\n",
       " 'businesses',\n",
       " 'busser',\n",
       " 'bustle',\n",
       " 'busy',\n",
       " 'butcher',\n",
       " 'butt',\n",
       " 'butter',\n",
       " 'buttered',\n",
       " 'buttermilk',\n",
       " 'butternut',\n",
       " 'butterscotch',\n",
       " 'buttery',\n",
       " 'button',\n",
       " 'buy',\n",
       " 'buying',\n",
       " 'buzz',\n",
       " 'bye',\n",
       " 'ca',\n",
       " 'cab',\n",
       " 'cabbage',\n",
       " 'caesar',\n",
       " 'caesars',\n",
       " 'cafe',\n",
       " 'cafeteria',\n",
       " 'café',\n",
       " 'cajun',\n",
       " 'cake',\n",
       " 'cakes',\n",
       " 'cal',\n",
       " 'calamari',\n",
       " 'cali',\n",
       " 'california',\n",
       " 'called',\n",
       " 'calling',\n",
       " 'calls',\n",
       " 'calm',\n",
       " 'calorie',\n",
       " 'calories',\n",
       " 'calzone',\n",
       " 'calzones',\n",
       " 'came',\n",
       " 'canal',\n",
       " 'cancel',\n",
       " 'cancelled',\n",
       " 'candied',\n",
       " 'candle',\n",
       " 'candy',\n",
       " 'cane',\n",
       " 'canes',\n",
       " 'canned',\n",
       " 'cannoli',\n",
       " 'cantina',\n",
       " 'cantonese',\n",
       " 'canyon',\n",
       " 'cap',\n",
       " 'capacity',\n",
       " 'capers',\n",
       " 'cappuccino',\n",
       " 'caprese',\n",
       " 'capriotti',\n",
       " 'captain',\n",
       " 'car',\n",
       " 'caramel',\n",
       " 'caramelized',\n",
       " 'carb',\n",
       " 'carbonara',\n",
       " 'carbs',\n",
       " 'card',\n",
       " 'cardboard',\n",
       " 'cards',\n",
       " 'care',\n",
       " 'cared',\n",
       " 'careful',\n",
       " 'carefully',\n",
       " 'cares',\n",
       " 'caring',\n",
       " 'carlo',\n",
       " 'carlos',\n",
       " 'carmine',\n",
       " 'carne',\n",
       " 'carnitas',\n",
       " 'carpaccio',\n",
       " 'carpet',\n",
       " 'carrot',\n",
       " 'carrots',\n",
       " 'carry',\n",
       " 'cars',\n",
       " 'carson',\n",
       " 'cart',\n",
       " 'carte',\n",
       " 'carts',\n",
       " 'carved',\n",
       " 'carving',\n",
       " 'case',\n",
       " 'cash',\n",
       " 'cashew',\n",
       " 'cashier',\n",
       " 'cashiers',\n",
       " 'casino',\n",
       " 'casinos',\n",
       " 'castle',\n",
       " 'casual',\n",
       " 'cat',\n",
       " 'catch',\n",
       " 'catching',\n",
       " 'category',\n",
       " 'cater',\n",
       " 'catered',\n",
       " 'catering',\n",
       " 'catfish',\n",
       " 'cattle',\n",
       " 'caught',\n",
       " 'cauliflower',\n",
       " 'cause',\n",
       " 'caused',\n",
       " 'caviar',\n",
       " 'ceasar',\n",
       " 'ceiling',\n",
       " 'ceilings',\n",
       " 'celebrate',\n",
       " 'celebrated',\n",
       " 'celebrating',\n",
       " 'celebration',\n",
       " 'celebrity',\n",
       " 'celery',\n",
       " 'cell',\n",
       " 'cent',\n",
       " 'center',\n",
       " 'central',\n",
       " 'cents',\n",
       " 'certain',\n",
       " 'certainly',\n",
       " 'certificate',\n",
       " 'cesar',\n",
       " 'ceviche',\n",
       " 'cha',\n",
       " 'chai',\n",
       " 'chain',\n",
       " 'chains',\n",
       " 'chair',\n",
       " 'chairs',\n",
       " 'challenge',\n",
       " 'champagne',\n",
       " 'chance',\n",
       " 'chances',\n",
       " 'change',\n",
       " 'changed',\n",
       " 'changes',\n",
       " 'changing',\n",
       " 'channel',\n",
       " 'chaotic',\n",
       " 'char',\n",
       " 'character',\n",
       " 'charcoal',\n",
       " 'charcuterie',\n",
       " 'charge',\n",
       " 'charged',\n",
       " 'charges',\n",
       " 'charging',\n",
       " 'charleston',\n",
       " 'charm',\n",
       " 'charming',\n",
       " 'charred',\n",
       " 'charts',\n",
       " 'chashu',\n",
       " 'chat',\n",
       " 'chatted',\n",
       " 'chatting',\n",
       " 'cheap',\n",
       " 'cheaper',\n",
       " 'cheapest',\n",
       " 'cheat',\n",
       " 'check',\n",
       " 'checked',\n",
       " 'checking',\n",
       " 'checkout',\n",
       " 'checks',\n",
       " 'cheddar',\n",
       " 'cheerful',\n",
       " 'cheers',\n",
       " 'cheese',\n",
       " 'cheeseburger',\n",
       " 'cheeseburgers',\n",
       " 'cheesecake',\n",
       " 'cheeses',\n",
       " 'cheesesteak',\n",
       " 'cheesy',\n",
       " 'chef',\n",
       " 'chefs',\n",
       " 'cherry',\n",
       " 'chew',\n",
       " 'chewing',\n",
       " 'chewy',\n",
       " 'chic',\n",
       " 'chicago',\n",
       " 'chick',\n",
       " 'chicken',\n",
       " 'chilaquiles',\n",
       " 'child',\n",
       " 'childhood',\n",
       " 'children',\n",
       " 'chile',\n",
       " 'chilean',\n",
       " 'chili',\n",
       " 'chilis',\n",
       " 'chill',\n",
       " 'chilled',\n",
       " 'chilli',\n",
       " 'chilly',\n",
       " 'chimichanga',\n",
       " 'chimichurri',\n",
       " 'china',\n",
       " 'chinatown',\n",
       " 'chinese',\n",
       " 'chip',\n",
       " 'chipotle',\n",
       " 'chips',\n",
       " 'chive',\n",
       " 'chives',\n",
       " 'chix',\n",
       " 'chocolate',\n",
       " 'chocolates',\n",
       " 'choice',\n",
       " 'choices',\n",
       " 'choose',\n",
       " 'choosing',\n",
       " 'chop',\n",
       " 'chopped',\n",
       " 'chops',\n",
       " 'chopsticks',\n",
       " 'chorizo',\n",
       " 'chose',\n",
       " 'chosen',\n",
       " 'chow',\n",
       " 'chowder',\n",
       " 'choy',\n",
       " 'chris',\n",
       " 'christina',\n",
       " 'christmas',\n",
       " 'chuck',\n",
       " 'chunk',\n",
       " 'chunks',\n",
       " 'chunky',\n",
       " 'church',\n",
       " 'churros',\n",
       " 'cider',\n",
       " 'cigarette',\n",
       " 'cilantro',\n",
       " 'cinnamon',\n",
       " 'circus',\n",
       " 'cirque',\n",
       " 'citrus',\n",
       " 'city',\n",
       " 'claim',\n",
       " 'claimed',\n",
       " 'clam',\n",
       " 'clams',\n",
       " 'class',\n",
       " 'classic',\n",
       " 'classics',\n",
       " 'classy',\n",
       " 'claws',\n",
       " 'clean',\n",
       " 'cleaned',\n",
       " 'cleaner',\n",
       " 'cleaning',\n",
       " 'cleanliness',\n",
       " 'clear',\n",
       " 'cleared',\n",
       " 'clearing',\n",
       " 'clearly',\n",
       " 'clever',\n",
       " 'client',\n",
       " 'clientele',\n",
       " 'clients',\n",
       " 'clock',\n",
       " 'close',\n",
       " 'closed',\n",
       " 'closer',\n",
       " 'closes',\n",
       " 'closest',\n",
       " 'closing',\n",
       " 'clothes',\n",
       " 'club',\n",
       " 'clubbing',\n",
       " 'clubs',\n",
       " 'clue',\n",
       " 'clueless',\n",
       " 'coast',\n",
       " 'coated',\n",
       " 'coating',\n",
       " 'cob',\n",
       " 'cobb',\n",
       " 'cobbler',\n",
       " 'cocktail',\n",
       " 'cocktails',\n",
       " 'coconut',\n",
       " 'cod',\n",
       " 'code',\n",
       " 'coffee',\n",
       " 'coffees',\n",
       " 'coke',\n",
       " 'cold',\n",
       " 'cole',\n",
       " 'coleslaw',\n",
       " 'collard',\n",
       " 'college',\n",
       " 'color',\n",
       " 'colored',\n",
       " 'colorful',\n",
       " 'colors',\n",
       " 'com',\n",
       " 'coma',\n",
       " 'combination',\n",
       " 'combinations',\n",
       " 'combine',\n",
       " 'combined',\n",
       " 'combo',\n",
       " 'combos',\n",
       " 'come',\n",
       " 'comes',\n",
       " 'comfort',\n",
       " 'comfortable',\n",
       " 'comfortably',\n",
       " 'comforting',\n",
       " 'comfy',\n",
       " 'coming',\n",
       " 'comment',\n",
       " 'commented',\n",
       " 'comments',\n",
       " 'commercial',\n",
       " 'common',\n",
       " 'communication',\n",
       " 'community',\n",
       " 'comp',\n",
       " 'companion',\n",
       " 'company',\n",
       " 'comparable',\n",
       " 'compare',\n",
       " 'compared',\n",
       " 'comparing',\n",
       " 'comparison',\n",
       " 'comped',\n",
       " 'compensate',\n",
       " 'compete',\n",
       " 'competition',\n",
       " 'competitive',\n",
       " 'complain',\n",
       " 'complained',\n",
       " 'complaining',\n",
       " 'complaint',\n",
       " 'complaints',\n",
       " ...]"
      ]
     },
     "execution_count": 36,
     "metadata": {},
     "output_type": "execute_result"
    }
   ],
   "source": [
    "words"
   ]
  },
  {
   "cell_type": "code",
   "execution_count": 19,
   "metadata": {},
   "outputs": [
    {
     "data": {
      "text/plain": [
       "(69523, 5000)"
      ]
     },
     "execution_count": 19,
     "metadata": {},
     "output_type": "execute_result"
    }
   ],
   "source": [
    "vectors_train.shape"
   ]
  },
  {
   "cell_type": "code",
   "execution_count": 20,
   "metadata": {
    "collapsed": true
   },
   "outputs": [],
   "source": [
    "vectors_test = vectorizer.transform(documents_test).toarray()"
   ]
  },
  {
   "cell_type": "markdown",
   "metadata": {},
   "source": [
    "## Similar review search engine"
   ]
  },
  {
   "cell_type": "code",
   "execution_count": 21,
   "metadata": {
    "collapsed": true
   },
   "outputs": [],
   "source": [
    "import numpy as np\n",
    "\n",
    "def get_top_values(lst, n, labels):\n",
    "    '''\n",
    "    INPUT: LIST, INTEGER, LIST\n",
    "    OUTPUT: LIST\n",
    "\n",
    "    Given a list of values, find the indices with the highest n values.\n",
    "    Return the labels for each of these indices.\n",
    "\n",
    "    e.g.\n",
    "    lst = [7, 3, 2, 4, 1]\n",
    "    n = 2\n",
    "    labels = [\"cat\", \"dog\", \"mouse\", \"pig\", \"rabbit\"]\n",
    "    output: [\"cat\", \"pig\"]\n",
    "    '''\n",
    "    return [labels[i] for i in np.argsort(lst)[::-1][:n]]  # np.argsort by default sorts values in ascending order\n",
    "\n",
    "def get_bottom_values(lst, n, labels):\n",
    "    '''\n",
    "    INPUT: LIST, INTEGER, LIST\n",
    "    OUTPUT: LIST\n",
    "\n",
    "    Given a list of values, find the indices with the lowest n values.\n",
    "    Return the labels for each of these indices.\n",
    "\n",
    "    e.g.\n",
    "    lst = [7, 3, 2, 4, 1]\n",
    "    n = 2\n",
    "    labels = [\"cat\", \"dog\", \"mouse\", \"pig\", \"rabbit\"]\n",
    "    output: [\"mouse\", \"rabbit\"]\n",
    "    '''\n",
    "    return [labels[i] for i in np.argsort(lst)[:n]]"
   ]
  },
  {
   "cell_type": "code",
   "execution_count": 22,
   "metadata": {
    "collapsed": true
   },
   "outputs": [],
   "source": [
    "from sklearn.metrics.pairwise import cosine_similarity"
   ]
  },
  {
   "cell_type": "code",
   "execution_count": 23,
   "metadata": {},
   "outputs": [
    {
     "name": "stdout",
     "output_type": "stream",
     "text": [
      "Very tasty food! Atmosphere on the patio is amazing. Service was fantastic. Nothing we requested was forgotten. More bread, done! More wine, done! Food was delivered exactly as ordered. We were very impressed with our first visit to Salute. Have to give a shout out to our server, Kevin. Thanks for being so  good at your job! ;)\n",
      "['Very tasty food! Atmosphere on the patio is amazing. Service was fantastic. Nothing we requested was forgotten. More bread, done! More wine, done! Food was delivered exactly as ordered. We were very impressed with our first visit to Salute. Have to give a shout out to our server, Kevin. Thanks for being so  good at your job! ;)']\n"
     ]
    }
   ],
   "source": [
    "# Draw an arbitrary review from test (unseen in training) documents\n",
    "some_random_number = 42\n",
    "search_query = documents_test[some_random_number]\n",
    "search_queries = [search_query]  # Need to be put into a list-like format\n",
    "print search_query\n",
    "print search_queries"
   ]
  },
  {
   "cell_type": "code",
   "execution_count": 24,
   "metadata": {
    "collapsed": true
   },
   "outputs": [],
   "source": [
    "# Transform the drawn review(s) to vector(s)\n",
    "vector_search_queries = vectorizer.transform(search_queries).toarray()"
   ]
  },
  {
   "cell_type": "code",
   "execution_count": 25,
   "metadata": {},
   "outputs": [
    {
     "data": {
      "text/plain": [
       "(1, 5000)"
      ]
     },
     "execution_count": 25,
     "metadata": {},
     "output_type": "execute_result"
    }
   ],
   "source": [
    "vector_search_queries.shape"
   ]
  },
  {
   "cell_type": "code",
   "execution_count": 26,
   "metadata": {},
   "outputs": [],
   "source": [
    "# Calculate the similarity score(s) between vector(s) and training vectors\n",
    "similarity_scores = cosine_similarity(vector_search_queries, vectors_train)"
   ]
  },
  {
   "cell_type": "code",
   "execution_count": 27,
   "metadata": {},
   "outputs": [],
   "source": [
    "n = 5\n",
    "returned_reviews = get_top_values(similarity_scores[0], n, documents_train)"
   ]
  },
  {
   "cell_type": "code",
   "execution_count": 28,
   "metadata": {},
   "outputs": [
    {
     "name": "stdout",
     "output_type": "stream",
     "text": [
      "Our search query:\n",
      "Very tasty food! Atmosphere on the patio is amazing. Service was fantastic. Nothing we requested was forgotten. More bread, done! More wine, done! Food was delivered exactly as ordered. We were very impressed with our first visit to Salute. Have to give a shout out to our server, Kevin. Thanks for being so  good at your job! ;)\n"
     ]
    }
   ],
   "source": [
    "print 'Our search query:'\n",
    "print search_queries[0]"
   ]
  },
  {
   "cell_type": "code",
   "execution_count": 29,
   "metadata": {},
   "outputs": [
    {
     "name": "stdout",
     "output_type": "stream",
     "text": [
      "Most 5 similar reviews:\n",
      "#0:\n",
      "Have a very good food, and Kevin is a very nice person also in side service is very good too.\n",
      "#1:\n",
      "Great service, food, and atmosphere. Shout out to Mark. Thanks for making our special night great.\n",
      "#2:\n",
      "You must go to Kevin haha he's a funny guy and great bartender. He def made my night lol thanks Kevin\n",
      "#3:\n",
      "Server Kevin was awesome. I love his service. He's been so friendly all the time during the dinner. Definitely will come back again.\n",
      "#4:\n",
      "Another wine dinner at Flemings. Incredible food and wine pairings. Outstanding, knowledgable staff. Kevin, the wine manager is amazing!\n"
     ]
    }
   ],
   "source": [
    "print 'Most %s similar reviews:' % n\n",
    "for i, review in enumerate(returned_reviews):\n",
    "    print '#%s:' % i\n",
    "    print review"
   ]
  },
  {
   "cell_type": "markdown",
   "metadata": {},
   "source": [
    "## Classifying positive/negative review"
   ]
  },
  {
   "cell_type": "markdown",
   "metadata": {},
   "source": [
    "#### Naive-Bayes Classifier"
   ]
  },
  {
   "cell_type": "code",
   "execution_count": 30,
   "metadata": {},
   "outputs": [
    {
     "data": {
      "text/plain": [
       "MultinomialNB(alpha=1.0, class_prior=None, fit_prior=True)"
      ]
     },
     "execution_count": 30,
     "metadata": {},
     "output_type": "execute_result"
    }
   ],
   "source": [
    "# Build a Naive-Bayes Classifier\n",
    "from sklearn.naive_bayes import MultinomialNB\n",
    "model_nb = MultinomialNB()\n",
    "model_nb.fit(vectors_train, target_train)"
   ]
  },
  {
   "cell_type": "code",
   "execution_count": 31,
   "metadata": {},
   "outputs": [
    {
     "data": {
      "text/plain": [
       "0.80951627518950564"
      ]
     },
     "execution_count": 31,
     "metadata": {},
     "output_type": "execute_result"
    }
   ],
   "source": [
    "# Get score for training set\n",
    "model_nb.score(vectors_train, target_train)"
   ]
  },
  {
   "cell_type": "code",
   "execution_count": 32,
   "metadata": {},
   "outputs": [
    {
     "data": {
      "text/plain": [
       "0.80082417582417587"
      ]
     },
     "execution_count": 32,
     "metadata": {},
     "output_type": "execute_result"
    }
   ],
   "source": [
    "# Get score for test set\n",
    "model_nb.score(vectors_test, target_test)"
   ]
  },
  {
   "cell_type": "markdown",
   "metadata": {},
   "source": [
    "#### Logistic Regression Classifier"
   ]
  },
  {
   "cell_type": "code",
   "execution_count": 33,
   "metadata": {},
   "outputs": [
    {
     "data": {
      "text/plain": [
       "LogisticRegression(C=1.0, class_weight=None, dual=False, fit_intercept=True,\n",
       "          intercept_scaling=1, max_iter=100, multi_class='ovr', n_jobs=1,\n",
       "          penalty='l2', random_state=None, solver='liblinear', tol=0.0001,\n",
       "          verbose=0, warm_start=False)"
      ]
     },
     "execution_count": 33,
     "metadata": {},
     "output_type": "execute_result"
    }
   ],
   "source": [
    "# Build a Logistic Regression Classifier\n",
    "from sklearn.linear_model import LogisticRegression\n",
    "model_lrc = LogisticRegression()\n",
    "model_lrc.fit(vectors_train, target_train)"
   ]
  },
  {
   "cell_type": "code",
   "execution_count": 34,
   "metadata": {},
   "outputs": [
    {
     "data": {
      "text/plain": [
       "0.84265638709491819"
      ]
     },
     "execution_count": 34,
     "metadata": {},
     "output_type": "execute_result"
    }
   ],
   "source": [
    "# Get score for training set\n",
    "model_lrc.score(vectors_train, target_train)"
   ]
  },
  {
   "cell_type": "code",
   "execution_count": 35,
   "metadata": {
    "scrolled": true
   },
   "outputs": [
    {
     "data": {
      "text/plain": [
       "0.82185648121512"
      ]
     },
     "execution_count": 35,
     "metadata": {},
     "output_type": "execute_result"
    }
   ],
   "source": [
    "# Get score for test set\n",
    "model_lrc.score(vectors_test, target_test)"
   ]
  },
  {
   "cell_type": "markdown",
   "metadata": {},
   "source": [
    "#### Key features(words) make the positive prediction"
   ]
  },
  {
   "cell_type": "code",
   "execution_count": 36,
   "metadata": {},
   "outputs": [
    {
     "data": {
      "text/plain": [
       "[u'amazing',\n",
       " u'best',\n",
       " u'awesome',\n",
       " u'perfect',\n",
       " u'thank',\n",
       " u'delicious',\n",
       " u'highly',\n",
       " u'fantastic',\n",
       " u'great',\n",
       " u'incredible',\n",
       " u'phenomenal',\n",
       " u'heaven',\n",
       " u'favorite',\n",
       " u'love',\n",
       " u'gem',\n",
       " u'wow',\n",
       " u'notch',\n",
       " u'excellent',\n",
       " u'soooo',\n",
       " u'outstanding']"
      ]
     },
     "execution_count": 36,
     "metadata": {},
     "output_type": "execute_result"
    }
   ],
   "source": [
    "n = 20\n",
    "get_top_values(model_lrc.coef_[0], n, words)"
   ]
  },
  {
   "cell_type": "markdown",
   "metadata": {},
   "source": [
    "#### Key features(words) make the negative prediction"
   ]
  },
  {
   "cell_type": "code",
   "execution_count": 37,
   "metadata": {},
   "outputs": [
    {
     "data": {
      "text/plain": [
       "[u'worst',\n",
       " u'ok',\n",
       " u'rude',\n",
       " u'horrible',\n",
       " u'bland',\n",
       " u'slow',\n",
       " u'terrible',\n",
       " u'disappointing',\n",
       " u'okay',\n",
       " u'mediocre',\n",
       " u'average',\n",
       " u'overpriced',\n",
       " u'decent',\n",
       " u'poor',\n",
       " u'lacking',\n",
       " u'dry',\n",
       " u'awful',\n",
       " u'meh',\n",
       " u'lacked',\n",
       " u'reason']"
      ]
     },
     "execution_count": 37,
     "metadata": {},
     "output_type": "execute_result"
    }
   ],
   "source": [
    "n = 20\n",
    "get_bottom_values(model_lrc.coef_[0], n, words)"
   ]
  },
  {
   "cell_type": "markdown",
   "metadata": {},
   "source": [
    "#### Random Forest Classifier"
   ]
  },
  {
   "cell_type": "code",
   "execution_count": 38,
   "metadata": {},
   "outputs": [
    {
     "data": {
      "text/plain": [
       "RandomForestClassifier(bootstrap=True, class_weight=None, criterion='gini',\n",
       "            max_depth=None, max_features='auto', max_leaf_nodes=None,\n",
       "            min_samples_leaf=10, min_samples_split=2,\n",
       "            min_weight_fraction_leaf=0.0, n_estimators=5, n_jobs=1,\n",
       "            oob_score=False, random_state=None, verbose=0,\n",
       "            warm_start=False)"
      ]
     },
     "execution_count": 38,
     "metadata": {},
     "output_type": "execute_result"
    }
   ],
   "source": [
    "# Build a Random Forest Classifier\n",
    "from sklearn.ensemble import RandomForestClassifier\n",
    "model_rfc = RandomForestClassifier(max_depth=None, n_estimators=5, min_samples_leaf=10)\n",
    "model_rfc.fit(vectors_train, target_train)"
   ]
  },
  {
   "cell_type": "code",
   "execution_count": 39,
   "metadata": {},
   "outputs": [
    {
     "data": {
      "text/plain": [
       "0.81098341556031817"
      ]
     },
     "execution_count": 39,
     "metadata": {},
     "output_type": "execute_result"
    }
   ],
   "source": [
    "# Get score for training set\n",
    "model_rfc.score(vectors_train, target_train)"
   ]
  },
  {
   "cell_type": "code",
   "execution_count": 40,
   "metadata": {},
   "outputs": [
    {
     "data": {
      "text/plain": [
       "0.76468917208446008"
      ]
     },
     "execution_count": 40,
     "metadata": {},
     "output_type": "execute_result"
    }
   ],
   "source": [
    "# Get score for test set\n",
    "model_rfc.score(vectors_test, target_test)"
   ]
  },
  {
   "cell_type": "markdown",
   "metadata": {},
   "source": [
    "#### Features (words) are important by inspecting the RFC model"
   ]
  },
  {
   "cell_type": "code",
   "execution_count": 41,
   "metadata": {},
   "outputs": [
    {
     "data": {
      "text/plain": [
       "[u'amazing',\n",
       " u'best',\n",
       " u'great',\n",
       " u'friendly',\n",
       " u'awesome',\n",
       " u'delicious',\n",
       " u'ok',\n",
       " u'vegas',\n",
       " u'love',\n",
       " u'horrible',\n",
       " u'rude',\n",
       " u'good',\n",
       " u'favorite',\n",
       " u'okay',\n",
       " u'disappointing',\n",
       " u'excellent',\n",
       " u'wasn',\n",
       " u'terrible',\n",
       " u'wonderful',\n",
       " u'las']"
      ]
     },
     "execution_count": 41,
     "metadata": {},
     "output_type": "execute_result"
    }
   ],
   "source": [
    "n = 20\n",
    "get_top_values(model_rfc.feature_importances_, n, words)"
   ]
  }
 ],
 "metadata": {
  "anaconda-cloud": {},
  "kernelspec": {
   "display_name": "Python 3",
   "language": "python",
   "name": "python3"
  },
  "language_info": {
   "codemirror_mode": {
    "name": "ipython",
    "version": 3
   },
   "file_extension": ".py",
   "mimetype": "text/x-python",
   "name": "python",
   "nbconvert_exporter": "python",
   "pygments_lexer": "ipython3",
   "version": "3.6.4"
  }
 },
 "nbformat": 4,
 "nbformat_minor": 1
}
